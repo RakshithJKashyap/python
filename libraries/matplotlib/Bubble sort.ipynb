{
 "cells": [
  {
   "cell_type": "code",
   "execution_count": 1,
   "metadata": {},
   "outputs": [
    {
     "data": {
      "image/png": "[encoded data removed]",
      "text/plain": [
       "<Figure size 432x288 with 1 Axes>"
      ]
     },
     "metadata": {
      "needs_background": "light"
     },
     "output_type": "display_data"
    }
   ],
   "source": [
    "import random\n",
    "from matplotlib import pyplot as plt, animation\n",
    "\n",
    "def swap(A, i, j):\n",
    "    A[i], A[j] = A[j], A[i]\n",
    "\n",
    "\n",
    "def bubblesort(A):\n",
    "    swapped = True\n",
    "    \n",
    "    for i in range(len(A) - 1):\n",
    "        if not swapped:\n",
    "            return\n",
    "        swapped = False\n",
    "        \n",
    "        for j in range(len(A) - 1 - i):\n",
    "            if A[j] > A[j + 1]:\n",
    "                swap(A, j, j + 1)\n",
    "                swapped = True\n",
    "            yield A\n",
    "\n",
    "\n",
    "def visualize():\n",
    "    N = 30\n",
    "    A = list(range(1, N + 1))\n",
    "    random.shuffle(A)\n",
    "    \n",
    "    \n",
    "    generator = bubblesort(A)\n",
    "    \n",
    "    fig, ax = plt.subplots()\n",
    "    ax.set_title(\"Bubble Sort O(n\\N{SUPERSCRIPT TWO})\")\n",
    "    bar_sub = ax.bar(range(len(A)), A, align=\"edge\")\n",
    "    \n",
    "    ax.set_xlim(0, N)\n",
    "    text = ax.text(0.02, 0.95, \"\", transform=ax.transAxes)\n",
    "    iteration = [0]\n",
    "    \n",
    "    def update(A, rects, iteration):\n",
    "        for rect, val in zip(rects, A):\n",
    "            rect.set_height(val)\n",
    "        iteration[0] += 1\n",
    "        text.set_text(f\"# of operations: {iteration[0]}\")\n",
    "\n",
    "    anim = animation.FuncAnimation(\n",
    "        fig,\n",
    "        func=update,\n",
    "        fargs=(bar_sub, iteration),\n",
    "        frames=generator,\n",
    "        repeat=True,\n",
    "        blit=False,\n",
    "        interval=15,\n",
    "        save_count=90000,\n",
    "    )\n",
    "    \n",
    "    plt.show()\n",
    "    plt.close()\n",
    "\n",
    "\n",
    "if __name__ == \"__main__\":\n",
    "    visualize()"
   ]
  },
  {
   "cell_type": "code",
   "execution_count": null,
   "metadata": {},
   "outputs": [],
   "source": []
  }
 ],
 "metadata": {
  "kernelspec": {
   "display_name": "Python 3",
   "language": "python",
   "name": "python3"
  },
  "language_info": {
   "codemirror_mode": {
    "name": "ipython",
    "version": 3
   },
   "file_extension": ".py",
   "mimetype": "text/x-python",
   "name": "python",
   "nbconvert_exporter": "python",
   "pygments_lexer": "ipython3",
   "version": "3.8.5"
  }
 },
 "nbformat": 4,
 "nbformat_minor": 4
}
